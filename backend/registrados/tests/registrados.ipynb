{
 "cells": [
  {
   "cell_type": "code",
   "execution_count": 1,
   "metadata": {},
   "outputs": [
    {
     "data": {
      "text/html": [
       "<pre style=\"white-space:pre;overflow-x:auto;line-height:normal;font-family:Menlo,'DejaVu Sans Mono',consolas,'Courier New',monospace\"><span style=\"font-style: italic\">                               Usuários Registrados                                </span>\n",
       "┏━━━━━━━━━━━━━━━━━━━━━━━┳━━━━━━━━━━━━━━━━━━━━━━━━━━━━━━━━━━━┳━━━━━━━━━━━━━━━━━━━━━┓\n",
       "┃<span style=\"font-weight: bold\"> Nome                  </span>┃<span style=\"font-weight: bold\"> Endereço                          </span>┃<span style=\"font-weight: bold\"> Telefone            </span>┃\n",
       "┡━━━━━━━━━━━━━━━━━━━━━━━╇━━━━━━━━━━━━━━━━━━━━━━━━━━━━━━━━━━━╇━━━━━━━━━━━━━━━━━━━━━┩\n",
       "│ Luiz Otávio Rodrigues │ Esplanada Cecília Freitas, 99     │ +55 (084) 2713-1892 │\n",
       "│                       │ Vila Santa Monica 1ª Seção        │                     │\n",
       "│                       │ 10868-944 Garcia Alegre / PB      │                     │\n",
       "├───────────────────────┼───────────────────────────────────┼─────────────────────┤\n",
       "│ Dr. Antony Cirino     │ Vereda de Duarte, 99              │ 21 4145-9438        │\n",
       "│                       │ Barro Preto                       │                     │\n",
       "│                       │ 17836-454 Casa Grande / AM        │                     │\n",
       "├───────────────────────┼───────────────────────────────────┼─────────────────────┤\n",
       "│ Juliana Silva         │ Praia Luísa Aparecida, 1          │ 71 2324-4644        │\n",
       "│                       │ Cinquentenário                    │                     │\n",
       "│                       │ 89452667 Sampaio do Galho / MS    │                     │\n",
       "├───────────────────────┼───────────────────────────────────┼─────────────────────┤\n",
       "│ Thales Oliveira       │ Esplanada Augusto Freitas, 816    │ (081) 4721-7960     │\n",
       "│                       │ Parque São José                   │                     │\n",
       "│                       │ 72213126 Sousa / RS               │                     │\n",
       "├───────────────────────┼───────────────────────────────────┼─────────────────────┤\n",
       "│ Valentina das Neves   │ Feira Rebeca da Costa, 3          │ +55 81 1722 3655    │\n",
       "│                       │ Mala E Cuia                       │                     │\n",
       "│                       │ 37280-940 Aparecida de Sales / MS │                     │\n",
       "└───────────────────────┴───────────────────────────────────┴─────────────────────┘\n",
       "<span style=\"color: #7f7f7f; text-decoration-color: #7f7f7f; font-style: italic\">                    A tabela mostrada apresenta dados fictícios                    </span>\n",
       "</pre>\n"
      ],
      "text/plain": [
       "\u001b[3m                               Usuários Registrados                                \u001b[0m\n",
       "┏━━━━━━━━━━━━━━━━━━━━━━━┳━━━━━━━━━━━━━━━━━━━━━━━━━━━━━━━━━━━┳━━━━━━━━━━━━━━━━━━━━━┓\n",
       "┃\u001b[1m \u001b[0m\u001b[1mNome                 \u001b[0m\u001b[1m \u001b[0m┃\u001b[1m \u001b[0m\u001b[1mEndereço                         \u001b[0m\u001b[1m \u001b[0m┃\u001b[1m \u001b[0m\u001b[1mTelefone           \u001b[0m\u001b[1m \u001b[0m┃\n",
       "┡━━━━━━━━━━━━━━━━━━━━━━━╇━━━━━━━━━━━━━━━━━━━━━━━━━━━━━━━━━━━╇━━━━━━━━━━━━━━━━━━━━━┩\n",
       "│ Luiz Otávio Rodrigues │ Esplanada Cecília Freitas, 99     │ +55 (084) 2713-1892 │\n",
       "│                       │ Vila Santa Monica 1ª Seção        │                     │\n",
       "│                       │ 10868-944 Garcia Alegre / PB      │                     │\n",
       "├───────────────────────┼───────────────────────────────────┼─────────────────────┤\n",
       "│ Dr. Antony Cirino     │ Vereda de Duarte, 99              │ 21 4145-9438        │\n",
       "│                       │ Barro Preto                       │                     │\n",
       "│                       │ 17836-454 Casa Grande / AM        │                     │\n",
       "├───────────────────────┼───────────────────────────────────┼─────────────────────┤\n",
       "│ Juliana Silva         │ Praia Luísa Aparecida, 1          │ 71 2324-4644        │\n",
       "│                       │ Cinquentenário                    │                     │\n",
       "│                       │ 89452667 Sampaio do Galho / MS    │                     │\n",
       "├───────────────────────┼───────────────────────────────────┼─────────────────────┤\n",
       "│ Thales Oliveira       │ Esplanada Augusto Freitas, 816    │ (081) 4721-7960     │\n",
       "│                       │ Parque São José                   │                     │\n",
       "│                       │ 72213126 Sousa / RS               │                     │\n",
       "├───────────────────────┼───────────────────────────────────┼─────────────────────┤\n",
       "│ Valentina das Neves   │ Feira Rebeca da Costa, 3          │ +55 81 1722 3655    │\n",
       "│                       │ Mala E Cuia                       │                     │\n",
       "│                       │ 37280-940 Aparecida de Sales / MS │                     │\n",
       "└───────────────────────┴───────────────────────────────────┴─────────────────────┘\n",
       "\u001b[2;3m                    A tabela mostrada apresenta dados fictícios                    \u001b[0m\n"
      ]
     },
     "metadata": {},
     "output_type": "display_data"
    }
   ],
   "source": [
    "from rich.console import Console\n",
    "from rich.table import Table\n",
    "from faker import Faker\n",
    "\n",
    "console = Console()\n",
    "\n",
    "fake = Faker(\"pt_BR\")\n",
    "registrados = {fake.name(): fake.address() for i in range(5)}\n",
    "\n",
    "tabel = Table()\n",
    "\n",
    "tabel.title = \"Usuários Registrados\"\n",
    "tabel.caption = \"A tabela mostrada apresenta dados fictícios\"\n",
    "tabel.show_lines= True\n",
    "\n",
    "\n",
    "tabel.add_column(\"Nome\")\n",
    "tabel.add_column(\"Endereço\")\n",
    "tabel.add_column(\"Telefone\")\n",
    "\n",
    "for nome, end in registrados.items():\n",
    "    tabel.add_row(nome, end, fake.phone_number())\n",
    "\n",
    "console.print(tabel)"
   ]
  }
 ],
 "metadata": {
  "kernelspec": {
   "display_name": "venv",
   "language": "python",
   "name": "python3"
  },
  "language_info": {
   "codemirror_mode": {
    "name": "ipython",
    "version": 3
   },
   "file_extension": ".py",
   "mimetype": "text/x-python",
   "name": "python",
   "nbconvert_exporter": "python",
   "pygments_lexer": "ipython3",
   "version": "3.12.8"
  }
 },
 "nbformat": 4,
 "nbformat_minor": 2
}
